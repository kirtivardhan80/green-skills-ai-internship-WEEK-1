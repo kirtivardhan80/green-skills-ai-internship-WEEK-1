{
 "cells": [
  {
   "cell_type": "code",
   "execution_count": 1,
   "id": "24685b42",
   "metadata": {
    "scrolled": false
   },
   "outputs": [
    {
     "name": "stderr",
     "output_type": "stream",
     "text": [
      "Downloading...\n",
      "From (original): https://drive.google.com/uc?id=1H7OJNxL3fmR1tHqkcUDHRZWq0jhRi-G0\n",
      "From (redirected): https://drive.google.com/uc?id=1H7OJNxL3fmR1tHqkcUDHRZWq0jhRi-G0&confirm=t&uuid=c808ad07-195f-4e73-bd1c-fb09e2afcd1a\n",
      "To: C:\\Users\\kirti\\Desktop\\Desktop47\\Projects\\Green skills Ai internship Edunet\\Tree_species_classification\\dataset.zip\n",
      "100%|██████████| 76.3M/76.3M [00:07<00:00, 9.68MB/s]\n"
     ]
    }
   ],
   "source": [
    "import gdown\n",
    "import zipfile\n",
    "\n",
    "# Step 1: Download the zip file from Google Drive\n",
    "file_id = '1H7OJNxL3fmR1tHqkcUDHRZWq0jhRi-G0'\n",
    "url = f'https://drive.google.com/uc?id={file_id}'\n",
    "output = 'dataset.zip'\n",
    "\n",
    "gdown.download(url, output, quiet=False)\n",
    "\n",
    "# Step 2: Unzip the dataset\n",
    "with zipfile.ZipFile(output, 'r') as zip_ref:\n",
    "    zip_ref.extractall('dataset')  # You can change 'dataset' to any folder name you prefer\n"
   ]
  },
  {
   "cell_type": "code",
   "execution_count": null,
   "id": "46c5c342",
   "metadata": {},
   "outputs": [],
   "source": []
  }
 ],
 "metadata": {
  "kernelspec": {
   "display_name": "Python 3 (ipykernel)",
   "language": "python",
   "name": "python3"
  },
  "language_info": {
   "codemirror_mode": {
    "name": "ipython",
    "version": 3
   },
   "file_extension": ".py",
   "mimetype": "text/x-python",
   "name": "python",
   "nbconvert_exporter": "python",
   "pygments_lexer": "ipython3",
   "version": "3.10.13"
  }
 },
 "nbformat": 4,
 "nbformat_minor": 5
}
